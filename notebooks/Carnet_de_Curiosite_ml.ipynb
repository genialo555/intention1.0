{
 "cells": [
  {
   "cell_type": "code",
   "execution_count": null,
   "id": "7d2ac6af",
   "metadata": {
    "tags": [
     "parameters"
    ]
   },
   "outputs": [],
   "source": [
    "# declare a list tasks whose products you want to use as inputs\n",
    "upstream = None\n"
   ]
  },
  {
   "cell_type": "code",
   "execution_count": null,
   "id": "9615e984",
   "metadata": {},
   "outputs": [],
   "source": [
    "import pdfplumber\n",
    "import PyPDF2\n",
    "from PIL import Image\n",
    "import re\n",
    "import io\n",
    "import base64\n",
    "import nbformat\n"
   ]
  },
  {
   "cell_type": "code",
   "execution_count": null,
   "id": "37139a77",
   "metadata": {},
   "outputs": [],
   "source": [
    "import os\n",
    "import nbformat\n",
    "from nbformat.v4 import new_code_cell, new_markdown_cell\n",
    "import pdfplumber\n",
    "import re\n",
    "import io\n",
    "import base64\n",
    "\n",
    "# Load or initialize notebook\n",
    "if os.path.exists(\"/home/jerem/Desktop/Carnet_de_Curiosite_ml.ipynb\"):\n",
    "    nb = nbformat.read(\"/home/jerem/Desktop/Carnet_de_Curiosite_ml.ipynb\", as_version=4)\n",
    "else:\n",
    "    nb = nbformat.v4.new_notebook()\n",
    "\n",
    "new_cells = []\n",
    "\n",
    "# Process PDF pages\n",
    "with pdfplumber.open(\"/home/jerem/Desktop/Carnet de Curiosité _ Intention, Décision & Curiosité – Un voyage interdisciplinaire.pdf\") as pdf:\n",
    "    for i, page in enumerate(pdf.pages, start=1):\n",
    "        # Extract words for proper spacing\n",
    "        words = page.extract_words()\n",
    "        if words:\n",
    "            words_sorted = sorted(words, key=lambda x: (x['top'], x['x0']))\n",
    "            text = ' '.join(w['text'] for w in words_sorted)\n",
    "        else:\n",
    "            text = page.extract_text() or \"\"\n",
    "        # Page header\n",
    "        new_cells.append(new_markdown_cell(f\"## Page {i}\\n\"))\n",
    "        # Detect and split by section titles\n",
    "        pattern = re.compile(r\"(^[A-Z0-9].*)\", re.M)\n",
    "        parts = pattern.split(text)\n",
    "        for idx in range(1, len(parts), 2):\n",
    "            title = parts[idx].strip()\n",
    "            body = parts[idx+1].strip()\n",
    "            md = f\"# {title}\\n\\n{body}\"\n",
    "            new_cells.append(new_markdown_cell(md))\n",
    "        # Extract images\n",
    "        for img in page.images:\n",
    "            im = page.within_bbox((img[\"x0\"], img[\"top\"], img[\"x1\"], img[\"bottom\"])).to_image(resolution=300).original\n",
    "            buf = io.BytesIO()\n",
    "            im.save(buf, format=\"PNG\")\n",
    "            data = base64.b64encode(buf.getvalue()).decode(\"utf-8\")\n",
    "            img_md = f\"![](data:image/png;base64,{data})\"\n",
    "            new_cells.append(new_markdown_cell(img_md))\n",
    "\n",
    "# Insert ML scaffolding after first cell\n",
    "new_cells.insert(1, new_code_cell(\"# Data Preprocessing Placeholder\\n# TODO: Add data preprocessing steps\"))\n",
    "\n",
    "# Append cells and set metadata\n",
    "nb.cells.extend(new_cells)\n",
    "nb.metadata.kernelspec = {\n",
    "    \"display_name\": \"Python 3\",\n",
    "    \"language\": \"python\",\n",
    "    \"name\": \"python3\"\n",
    "}\n",
    "nb.metadata.language_info = {\n",
    "    \"name\": \"python\",\n",
    "    \"version\": \"3\"\n",
    "}\n",
    "\n",
    "# Write notebook\n",
    "nbformat.write(nb, \"/home/jerem/Desktop/Carnet_de_Curiosite_ml.ipynb\")\n"
   ]
  }
 ],
 "metadata": {
  "kernelspec": {
   "display_name": "Python 3",
   "language": "python",
   "name": "python3"
  },
  "language_info": {
   "name": "python"
  }
 },
 "nbformat": 4,
 "nbformat_minor": 5
}
