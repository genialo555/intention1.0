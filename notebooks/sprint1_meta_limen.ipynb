{
 "cells": [
  {
   "cell_type": "code",
   "execution_count": null,
   "id": "e1f94406",
   "metadata": {
    "tags": [
     "parameters"
    ]
   },
   "outputs": [],
   "source": [
    "# declare a list tasks whose products you want to use as inputs\n",
    "upstream = None\n"
   ]
  },
  {
   "cell_type": "markdown",
   "id": "f7afb037",
   "metadata": {
    "lines_to_next_cell": 0
   },
   "source": [
    "# Sprint 1 – MetaLIMEN Foundations\n",
    "\n",
    "In this notebook we complete Sprint 1 by preparing conceptual data, training a MetaLIMEN model stub, defining intentions, and visualizing the meta-intention space.\n",
    "\n",
    "## 1. Prepare Conceptual Data"
   ]
  },
  {
   "cell_type": "code",
   "execution_count": null,
   "id": "60c8e109",
   "metadata": {
    "lines_to_next_cell": 0
   },
   "outputs": [],
   "source": [
    "%%bash\n",
    "python scripts/prepare_conceptual_data.py \\\n",
    "  --config configs/meta_limen_config.yaml \\\n",
    "  --output_dir data/conceptual_corpus"
   ]
  },
  {
   "cell_type": "markdown",
   "id": "cf5e6505",
   "metadata": {
    "lines_to_next_cell": 0
   },
   "source": [
    "Inspect output:"
   ]
  },
  {
   "cell_type": "code",
   "execution_count": null,
   "id": "a3f36d14",
   "metadata": {},
   "outputs": [],
   "source": [
    "import json\n",
    "with open(\"data/conceptual_corpus/concepts.jsonl\") as f:\n",
    "    lines = f.readlines()\n",
    "print(f\"Prepared {len(lines)} concept entries\")\n",
    "sample = json.loads(lines[0])\n",
    "sample"
   ]
  },
  {
   "cell_type": "markdown",
   "id": "91474387",
   "metadata": {
    "lines_to_next_cell": 0
   },
   "source": [
    "## 2. Instantiate MetaLIMEN & Define Intentions"
   ]
  },
  {
   "cell_type": "code",
   "execution_count": null,
   "id": "be4c3202",
   "metadata": {},
   "outputs": [],
   "source": [
    "from modules.meta_limen.meta_limen import MetaLIMEN\n",
    "import pandas as pd\n",
    "import yaml\n",
    "\n",
    "cfg_file = \"configs/meta_limen_config.yaml\"\n",
    "ml = MetaLIMEN(cfg_file)\n",
    "cfg = yaml.safe_load(open(cfg_file))\n",
    "domains = [d[\"name\"] for d in cfg[\"target_domains\"]]\n",
    "intents = ml.define_learning_intentions()\n",
    "df = pd.DataFrame(intents)\n",
    "df[[\"domain\",\"learning_priority\",\"curriculum_weight\",\"meta_position\"]]"
   ]
  },
  {
   "cell_type": "markdown",
   "id": "11419c28",
   "metadata": {
    "lines_to_next_cell": 0
   },
   "source": [
    "## 3. Visualize Meta-Intention Space"
   ]
  },
  {
   "cell_type": "code",
   "execution_count": null,
   "id": "d799839d",
   "metadata": {},
   "outputs": [],
   "source": [
    "from sklearn.metrics.pairwise import cosine_similarity\n",
    "import numpy as np\n",
    "import seaborn as sns\n",
    "import matplotlib.pyplot as plt\n",
    "\n",
    "vectors = np.vstack([i[\"meta_position\"] for i in intents])\n",
    "sim = cosine_similarity(vectors)\n",
    "sns.heatmap(sim, xticklabels=df.domain, yticklabels=df.domain, cmap=\"magma\", annot=True)\n",
    "plt.title(\"Inter-Domain Cosine Similarities\")\n",
    "plt.show()"
   ]
  },
  {
   "cell_type": "markdown",
   "id": "bb7eb4c1",
   "metadata": {
    "lines_to_next_cell": 0
   },
   "source": [
    "## 4. Run Unit Tests"
   ]
  },
  {
   "cell_type": "code",
   "execution_count": null,
   "id": "8c47e8f6",
   "metadata": {},
   "outputs": [],
   "source": [
    "%%bash\n",
    "pytest tests/unit/test_meta_limen.py -q || true"
   ]
  }
 ],
 "metadata": {
  "jupytext": {
   "cell_metadata_filter": "-all",
   "main_language": "python",
   "notebook_metadata_filter": "-all"
  },
  "kernelspec": {
   "display_name": "Python 3",
   "language": "python",
   "name": "python3"
  },
  "language_info": {
   "name": "python"
  }
 },
 "nbformat": 4,
 "nbformat_minor": 5
}
