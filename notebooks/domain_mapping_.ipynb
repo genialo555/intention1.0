{
 "cells": [
  {
   "cell_type": "code",
   "execution_count": null,
   "id": "bc69aa13",
   "metadata": {
    "tags": [
     "parameters"
    ]
   },
   "outputs": [],
   "source": [
    "# declare a list tasks whose products you want to use as inputs\n",
    "upstream = None\n"
   ]
  },
  {
   "cell_type": "markdown",
   "id": "e138344c",
   "metadata": {},
   "source": [
    "# Domain Mapping with MetaLIMEN\n",
    "\n",
    "In this notebook we'll show how MetaLIMEN embeds domain descriptions into a meta-intention space, computes inter-domain distances, and visualizes their clustering."
   ]
  },
  {
   "cell_type": "code",
   "execution_count": null,
   "id": "19ca161e",
   "metadata": {},
   "outputs": [],
   "source": [
    "import yaml, json\n",
    "import numpy as np\n",
    "import pandas as pd\n",
    "import seaborn as sns\n",
    "import matplotlib.pyplot as plt\n",
    "from sklearn.metrics.pairwise import cosine_similarity\n",
    "from sklearn.decomposition import PCA\n",
    "from modules.meta_limen.meta_limen import MetaLIMEN"
   ]
  },
  {
   "cell_type": "markdown",
   "id": "de4919a3",
   "metadata": {},
   "source": [
    "## Load configuration & instantiate MetaLIMEN"
   ]
  },
  {
   "cell_type": "code",
   "execution_count": null,
   "id": "c24e3939",
   "metadata": {},
   "outputs": [],
   "source": [
    "cfg_file = \"configs/meta_limen_config.yaml\"\n",
    "ml = MetaLIMEN(cfg_file)\n",
    "cfg = yaml.safe_load(open(cfg_file))\n",
    "domains = [d[\"name\"] for d in cfg[\"target_domains\"]]"
   ]
  },
  {
   "cell_type": "markdown",
   "id": "5e8c4453",
   "metadata": {},
   "source": [
    "## Define meta-intentions & build DataFrame"
   ]
  },
  {
   "cell_type": "code",
   "execution_count": null,
   "id": "1bfe7753",
   "metadata": {},
   "outputs": [],
   "source": [
    "intents = ml.define_learning_intentions()\n",
    "df = pd.DataFrame([{\n",
    "    \"domain\": i[\"domain\"],\n",
    "    **{f\"dim{j}\": v for j, v in enumerate(i[\"meta_position\"])}\n",
    "}\n",
    " for i in intents])"
   ]
  },
  {
   "cell_type": "markdown",
   "id": "5659fb62",
   "metadata": {},
   "source": [
    "## Inter-domain Cosine Similarity Heatmap"
   ]
  },
  {
   "cell_type": "code",
   "execution_count": null,
   "id": "7c6bcb3a",
   "metadata": {},
   "outputs": [],
   "source": [
    "M = cosine_similarity(df.filter(regex='^dim').values)\n",
    "sns.heatmap(M, xticklabels=df.domain, yticklabels=df.domain, cmap=\"viridis\", annot=True)\n",
    "plt.title(\"Inter-Domain Cosine Similarities\")\n",
    "plt.show()"
   ]
  },
  {
   "cell_type": "markdown",
   "id": "e4c7ef9e",
   "metadata": {},
   "source": [
    "## PCA of Meta-Intentions"
   ]
  },
  {
   "cell_type": "code",
   "execution_count": null,
   "id": "4ab81232",
   "metadata": {},
   "outputs": [],
   "source": [
    "pca_results = PCA(n_components=2).fit_transform(df[[c for c in df if c.startswith(\"dim\")]])\n",
    "fig, ax = plt.subplots()\n",
    "ax.scatter(pca_results[:,0], pca_results[:,1])\n",
    "for x, y, label in zip(pca_results[:,0], pca_results[:,1], df.domain):\n",
    "    ax.text(x+0.01, y+0.01, label)\n",
    "ax.set_title(\"PCA of Meta-Intentions\")\n",
    "plt.show()"
   ]
  },
  {
   "cell_type": "markdown",
   "id": "c390c6f8",
   "metadata": {},
   "source": [
    "## Interpretation\n",
    "\n",
    "Notice how some domains cluster closer, indicating shared curricular resources or overlapping conceptual space. "
   ]
  }
 ],
 "metadata": {
  "jupytext": {
   "cell_metadata_filter": "-all",
   "main_language": "python",
   "notebook_metadata_filter": "-all"
  },
  "kernelspec": {
   "display_name": "Python 3",
   "language": "python",
   "name": "python3"
  },
  "language_info": {
   "name": "python"
  }
 },
 "nbformat": 4,
 "nbformat_minor": 5
}
