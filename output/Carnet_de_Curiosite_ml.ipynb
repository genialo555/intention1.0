{
 "cells": [
  {
   "cell_type": "code",
   "execution_count": 1,
   "id": "7d2ac6af",
   "metadata": {
    "execution": {
     "iopub.execute_input": "2025-05-29T10:49:47.770331Z",
     "iopub.status.busy": "2025-05-29T10:49:47.770169Z",
     "iopub.status.idle": "2025-05-29T10:49:47.772157Z",
     "shell.execute_reply": "2025-05-29T10:49:47.771943Z"
    },
    "papermill": {
     "duration": 0.003887,
     "end_time": "2025-05-29T10:49:47.772628",
     "exception": false,
     "start_time": "2025-05-29T10:49:47.768741",
     "status": "completed"
    },
    "tags": [
     "parameters"
    ]
   },
   "outputs": [],
   "source": [
    "# declare a list tasks whose products you want to use as inputs\n",
    "upstream = None\n"
   ]
  },
  {
   "cell_type": "code",
   "execution_count": 2,
   "id": "7ff27584",
   "metadata": {
    "execution": {
     "iopub.execute_input": "2025-05-29T10:49:47.775926Z",
     "iopub.status.busy": "2025-05-29T10:49:47.775847Z",
     "iopub.status.idle": "2025-05-29T10:49:47.777349Z",
     "shell.execute_reply": "2025-05-29T10:49:47.777141Z"
    },
    "papermill": {
     "duration": 0.002596,
     "end_time": "2025-05-29T10:49:47.777762",
     "exception": false,
     "start_time": "2025-05-29T10:49:47.775166",
     "status": "completed"
    },
    "tags": [
     "injected-parameters"
    ]
   },
   "outputs": [],
   "source": [
    "# Parameters\n",
    "product = {\"nb\": \"/home/jerem/intention1.0/output/Carnet_de_Curiosite_ml.ipynb\"}\n"
   ]
  },
  {
   "cell_type": "code",
   "execution_count": 3,
   "id": "9615e984",
   "metadata": {
    "execution": {
     "iopub.execute_input": "2025-05-29T10:49:47.778948Z",
     "iopub.status.busy": "2025-05-29T10:49:47.778871Z",
     "iopub.status.idle": "2025-05-29T10:49:47.864502Z",
     "shell.execute_reply": "2025-05-29T10:49:47.864146Z"
    },
    "papermill": {
     "duration": 0.087114,
     "end_time": "2025-05-29T10:49:47.865315",
     "exception": false,
     "start_time": "2025-05-29T10:49:47.778201",
     "status": "completed"
    },
    "tags": []
   },
   "outputs": [],
   "source": [
    "import pdfplumber\n",
    "import PyPDF2\n",
    "from PIL import Image\n",
    "import re\n",
    "import io\n",
    "import base64\n",
    "import nbformat\n"
   ]
  },
  {
   "cell_type": "code",
   "execution_count": 4,
   "id": "37139a77",
   "metadata": {
    "execution": {
     "iopub.execute_input": "2025-05-29T10:49:47.867272Z",
     "iopub.status.busy": "2025-05-29T10:49:47.867138Z",
     "iopub.status.idle": "2025-05-29T10:49:53.545727Z",
     "shell.execute_reply": "2025-05-29T10:49:53.545354Z"
    },
    "papermill": {
     "duration": 5.680497,
     "end_time": "2025-05-29T10:49:53.546508",
     "exception": false,
     "start_time": "2025-05-29T10:49:47.866011",
     "status": "completed"
    },
    "tags": []
   },
   "outputs": [],
   "source": [
    "import os\n",
    "import nbformat\n",
    "from nbformat.v4 import new_code_cell, new_markdown_cell\n",
    "import pdfplumber\n",
    "import re\n",
    "import io\n",
    "import base64\n",
    "\n",
    "# Load or initialize notebook\n",
    "if os.path.exists(\"/home/jerem/Desktop/Carnet_de_Curiosite_ml.ipynb\"):\n",
    "    nb = nbformat.read(\"/home/jerem/Desktop/Carnet_de_Curiosite_ml.ipynb\", as_version=4)\n",
    "else:\n",
    "    nb = nbformat.v4.new_notebook()\n",
    "\n",
    "new_cells = []\n",
    "\n",
    "# Process PDF pages\n",
    "with pdfplumber.open(\"/home/jerem/Desktop/Carnet de Curiosité _ Intention, Décision & Curiosité – Un voyage interdisciplinaire.pdf\") as pdf:\n",
    "    for i, page in enumerate(pdf.pages, start=1):\n",
    "        # Extract words for proper spacing\n",
    "        words = page.extract_words()\n",
    "        if words:\n",
    "            words_sorted = sorted(words, key=lambda x: (x['top'], x['x0']))\n",
    "            text = ' '.join(w['text'] for w in words_sorted)\n",
    "        else:\n",
    "            text = page.extract_text() or \"\"\n",
    "        # Page header\n",
    "        new_cells.append(new_markdown_cell(f\"## Page {i}\\n\"))\n",
    "        # Detect and split by section titles\n",
    "        pattern = re.compile(r\"(^[A-Z0-9].*)\", re.M)\n",
    "        parts = pattern.split(text)\n",
    "        for idx in range(1, len(parts), 2):\n",
    "            title = parts[idx].strip()\n",
    "            body = parts[idx+1].strip()\n",
    "            md = f\"# {title}\\n\\n{body}\"\n",
    "            new_cells.append(new_markdown_cell(md))\n",
    "        # Extract images\n",
    "        for img in page.images:\n",
    "            im = page.within_bbox((img[\"x0\"], img[\"top\"], img[\"x1\"], img[\"bottom\"])).to_image(resolution=300).original\n",
    "            buf = io.BytesIO()\n",
    "            im.save(buf, format=\"PNG\")\n",
    "            data = base64.b64encode(buf.getvalue()).decode(\"utf-8\")\n",
    "            img_md = f\"![](data:image/png;base64,{data})\"\n",
    "            new_cells.append(new_markdown_cell(img_md))\n",
    "\n",
    "# Insert ML scaffolding after first cell\n",
    "new_cells.insert(1, new_code_cell(\"# Data Preprocessing Placeholder\\n# TODO: Add data preprocessing steps\"))\n",
    "\n",
    "# Append cells and set metadata\n",
    "nb.cells.extend(new_cells)\n",
    "nb.metadata.kernelspec = {\n",
    "    \"display_name\": \"Python 3\",\n",
    "    \"language\": \"python\",\n",
    "    \"name\": \"python3\"\n",
    "}\n",
    "nb.metadata.language_info = {\n",
    "    \"name\": \"python\",\n",
    "    \"version\": \"3\"\n",
    "}\n",
    "\n",
    "# Write notebook\n",
    "nbformat.write(nb, \"/home/jerem/Desktop/Carnet_de_Curiosite_ml.ipynb\")\n"
   ]
  }
 ],
 "metadata": {
  "kernelspec": {
   "display_name": "Python 3 (ipykernel)",
   "language": "python",
   "name": "python3"
  },
  "language_info": {
   "codemirror_mode": {
    "name": "ipython",
    "version": 3
   },
   "file_extension": ".py",
   "mimetype": "text/x-python",
   "name": "python",
   "nbconvert_exporter": "python",
   "pygments_lexer": "ipython3",
   "version": "3.12.3"
  },
  "papermill": {
   "duration": 6.507903,
   "end_time": "2025-05-29T10:49:53.760333",
   "exception": null,
   "input_path": "/tmp/tmptxi42uar.ipynb",
   "output_path": "/home/jerem/intention1.0/output/Carnet_de_Curiosite_ml.ipynb",
   "parameters": {
    "product": {
     "nb": "/home/jerem/intention1.0/output/Carnet_de_Curiosite_ml.ipynb"
    }
   },
   "start_time": "2025-05-29T10:49:47.252430"
  }
 },
 "nbformat": 4,
 "nbformat_minor": 5
}